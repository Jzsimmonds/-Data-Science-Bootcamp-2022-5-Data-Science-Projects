{
  "cells": [
    {
      "cell_type": "markdown",
      "metadata": {
        "id": "view-in-github",
        "colab_type": "text"
      },
      "source": [
        "<a href=\"https://colab.research.google.com/github/Jzsimmonds/-Data-Science-Bootcamp-2022-5-Data-Science-Projects/blob/main/NUMPYI~1_IPY.ipynb\" target=\"_parent\"><img src=\"https://colab.research.google.com/assets/colab-badge.svg\" alt=\"Open In Colab\"/></a>"
      ]
    },
    {
      "cell_type": "markdown",
      "metadata": {
        "id": "IucK_pHWehmF"
      },
      "source": [
        "# NumPy for Numerical Computation"
      ]
    },
    {
      "cell_type": "markdown",
      "metadata": {
        "id": "A4RBRE7VehmG"
      },
      "source": [
        "NumPy is an open source Python package for numerical computation in Python"
      ]
    },
    {
      "cell_type": "markdown",
      "metadata": {
        "id": "xLqYPC-CehmH"
      },
      "source": [
        "## Installing NumPy"
      ]
    },
    {
      "cell_type": "markdown",
      "metadata": {
        "id": "tlpVB3E0ehmH"
      },
      "source": [
        "conda install numpy\n",
        "\n",
        "or\n",
        "\n",
        "pip install numpy"
      ]
    },
    {
      "cell_type": "markdown",
      "metadata": {
        "id": "kD9CFs9tehmH"
      },
      "source": [
        "### Why use NumPy?"
      ]
    },
    {
      "cell_type": "markdown",
      "metadata": {
        "id": "1f7q6XOFehmH"
      },
      "source": [
        "- faster and more compact than Python lists\n",
        "- consumes less memory and is convenient to use\n",
        "- Other data science packages are built on top of it"
      ]
    },
    {
      "cell_type": "markdown",
      "metadata": {
        "id": "NRr7JbpuehmH"
      },
      "source": [
        "# Data Types"
      ]
    },
    {
      "cell_type": "code",
      "execution_count": null,
      "metadata": {
        "id": "017N7YBlehmH"
      },
      "outputs": [],
      "source": [
        "import numpy as np"
      ]
    },
    {
      "cell_type": "code",
      "execution_count": null,
      "metadata": {
        "colab": {
          "base_uri": "https://localhost:8080/"
        },
        "id": "Gy90IWZjehmI",
        "outputId": "7d59d73a-ae18-45c8-bf94-a650f10fa884"
      },
      "outputs": [
        {
          "output_type": "stream",
          "name": "stderr",
          "text": [
            "<ipython-input-2-a337e6fee48c>:1: DeprecationWarning: `np.float` is a deprecated alias for the builtin `float`. To silence this warning, use `float` by itself. Doing this will not modify any behavior and is safe. If you specifically wanted the numpy scalar type, use `np.float64` here.\n",
            "Deprecated in NumPy 1.20; for more details and guidance: https://numpy.org/devdocs/release/1.20.0-notes.html#deprecations\n",
            "  x = np.float(1.25844)\n"
          ]
        }
      ],
      "source": [
        "x = np.float(1.25844)"
      ]
    },
    {
      "cell_type": "code",
      "execution_count": null,
      "metadata": {
        "colab": {
          "base_uri": "https://localhost:8080/"
        },
        "id": "U_nIit4IehmI",
        "outputId": "972e2831-ac99-4d85-84a2-bc4fa063c509"
      },
      "outputs": [
        {
          "output_type": "execute_result",
          "data": {
            "text/plain": [
              "1.25844"
            ]
          },
          "metadata": {},
          "execution_count": 3
        }
      ],
      "source": [
        "x"
      ]
    },
    {
      "cell_type": "code",
      "execution_count": null,
      "metadata": {
        "colab": {
          "base_uri": "https://localhost:8080/"
        },
        "id": "SRxQIXDbehmJ",
        "outputId": "aab3b31f-4037-4a18-aceb-5c4a6a6e26df"
      },
      "outputs": [
        {
          "output_type": "execute_result",
          "data": {
            "text/plain": [
              "float"
            ]
          },
          "metadata": {},
          "execution_count": 4
        }
      ],
      "source": [
        "type(x)"
      ]
    },
    {
      "cell_type": "code",
      "execution_count": null,
      "metadata": {
        "colab": {
          "base_uri": "https://localhost:8080/"
        },
        "id": "bv6SEPm3ehmJ",
        "outputId": "06756528-7734-441a-fff5-64d323166296"
      },
      "outputs": [
        {
          "output_type": "stream",
          "name": "stderr",
          "text": [
            "<ipython-input-5-d72a2b021e2a>:1: DeprecationWarning: `np.int` is a deprecated alias for the builtin `int`. To silence this warning, use `int` by itself. Doing this will not modify any behavior and is safe. When replacing `np.int`, you may wish to use e.g. `np.int64` or `np.int32` to specify the precision. If you wish to review your current use, check the release note link for additional information.\n",
            "Deprecated in NumPy 1.20; for more details and guidance: https://numpy.org/devdocs/release/1.20.0-notes.html#deprecations\n",
            "  w = np.int(1.2222)\n"
          ]
        }
      ],
      "source": [
        "w = np.int(1.2222)"
      ]
    },
    {
      "cell_type": "code",
      "execution_count": null,
      "metadata": {
        "colab": {
          "base_uri": "https://localhost:8080/"
        },
        "id": "2rnCARLFehmJ",
        "outputId": "6a701768-a099-4261-fcaa-141875cea63d"
      },
      "outputs": [
        {
          "output_type": "execute_result",
          "data": {
            "text/plain": [
              "1"
            ]
          },
          "metadata": {},
          "execution_count": 6
        }
      ],
      "source": [
        "w"
      ]
    },
    {
      "cell_type": "code",
      "execution_count": null,
      "metadata": {
        "colab": {
          "base_uri": "https://localhost:8080/"
        },
        "id": "AMdBtLb7ehmJ",
        "outputId": "12838c94-0b9a-4a1a-8176-dae798f93622"
      },
      "outputs": [
        {
          "output_type": "execute_result",
          "data": {
            "text/plain": [
              "int"
            ]
          },
          "metadata": {},
          "execution_count": 7
        }
      ],
      "source": [
        "type(w)"
      ]
    },
    {
      "cell_type": "markdown",
      "metadata": {
        "id": "6mXRQP0yehmK"
      },
      "source": [
        "## Ways to Create NumPy Arrays"
      ]
    },
    {
      "cell_type": "markdown",
      "metadata": {
        "id": "rVGVv8tKehmK"
      },
      "source": [
        "A NumPy array is a multidimensional array-like data structure"
      ]
    },
    {
      "cell_type": "markdown",
      "metadata": {
        "id": "1klzkjbCehmK"
      },
      "source": [
        "### np.arange()"
      ]
    },
    {
      "cell_type": "code",
      "execution_count": null,
      "metadata": {
        "colab": {
          "base_uri": "https://localhost:8080/"
        },
        "id": "_c7-bks7ehmK",
        "outputId": "40440a7d-ba73-4294-b0ee-c15c78a9cf31"
      },
      "outputs": [
        {
          "output_type": "execute_result",
          "data": {
            "text/plain": [
              "array([0, 1, 2, 3, 4, 5, 6, 7, 8, 9])"
            ]
          },
          "metadata": {},
          "execution_count": 8
        }
      ],
      "source": [
        "np.arange(10)"
      ]
    },
    {
      "cell_type": "code",
      "execution_count": null,
      "metadata": {
        "colab": {
          "base_uri": "https://localhost:8080/"
        },
        "id": "qqAcUSRVehmK",
        "outputId": "e1785b37-237d-4415-c37c-b195f8991283"
      },
      "outputs": [
        {
          "output_type": "execute_result",
          "data": {
            "text/plain": [
              "array([0, 1, 2, 3, 4, 5, 6, 7, 8, 9])"
            ]
          },
          "metadata": {},
          "execution_count": 9
        }
      ],
      "source": [
        "np.arange(0,10)"
      ]
    },
    {
      "cell_type": "code",
      "execution_count": null,
      "metadata": {
        "colab": {
          "base_uri": "https://localhost:8080/"
        },
        "id": "NcaUnZ0MehmK",
        "outputId": "9ae98090-feec-42df-904e-fd3453e1cd7b"
      },
      "outputs": [
        {
          "output_type": "execute_result",
          "data": {
            "text/plain": [
              "array([0, 2, 4, 6, 8])"
            ]
          },
          "metadata": {},
          "execution_count": 10
        }
      ],
      "source": [
        "np.arange(0,10,2)"
      ]
    },
    {
      "cell_type": "markdown",
      "metadata": {
        "id": "Gh2Ci4g9ehmL"
      },
      "source": [
        "### Covert Python List to a NumPy Array"
      ]
    },
    {
      "cell_type": "code",
      "execution_count": null,
      "metadata": {
        "id": "A8XvDPZoehmL"
      },
      "outputs": [],
      "source": [
        "scores = [50,60,70,30,25,70]"
      ]
    },
    {
      "cell_type": "code",
      "execution_count": null,
      "metadata": {
        "id": "85HTKbN2ehmL"
      },
      "outputs": [],
      "source": [
        "scores_array = np.array(scores)"
      ]
    },
    {
      "cell_type": "code",
      "execution_count": null,
      "metadata": {
        "colab": {
          "base_uri": "https://localhost:8080/"
        },
        "id": "iBocXDD_ehmL",
        "outputId": "6ded8589-1d8b-46cb-ded1-8d5a9f8d7f55"
      },
      "outputs": [
        {
          "output_type": "execute_result",
          "data": {
            "text/plain": [
              "array([50, 60, 70, 30, 25, 70])"
            ]
          },
          "metadata": {},
          "execution_count": 13
        }
      ],
      "source": [
        "scores_array"
      ]
    },
    {
      "cell_type": "code",
      "execution_count": null,
      "metadata": {
        "colab": {
          "base_uri": "https://localhost:8080/"
        },
        "id": "pbc-33f_ehmL",
        "outputId": "39e15416-6d9c-4e12-e177-6b9a6ddc8dd5"
      },
      "outputs": [
        {
          "output_type": "execute_result",
          "data": {
            "text/plain": [
              "numpy.ndarray"
            ]
          },
          "metadata": {},
          "execution_count": 14
        }
      ],
      "source": [
        "type(scores_array)"
      ]
    },
    {
      "cell_type": "code",
      "execution_count": null,
      "metadata": {
        "colab": {
          "base_uri": "https://localhost:8080/"
        },
        "id": "mtNTzNj7ehmL",
        "outputId": "87d64070-9e8b-4edf-d4d2-63f9d8110e11"
      },
      "outputs": [
        {
          "output_type": "execute_result",
          "data": {
            "text/plain": [
              "1"
            ]
          },
          "metadata": {},
          "execution_count": 15
        }
      ],
      "source": [
        "scores_array.ndim # the dimension of the array"
      ]
    },
    {
      "cell_type": "code",
      "execution_count": null,
      "metadata": {
        "colab": {
          "base_uri": "https://localhost:8080/"
        },
        "id": "JnCC1Q6KehmM",
        "outputId": "e9e3c7ac-2e16-49a9-e79a-56e08a61ea50"
      },
      "outputs": [
        {
          "output_type": "execute_result",
          "data": {
            "text/plain": [
              "6"
            ]
          },
          "metadata": {},
          "execution_count": 16
        }
      ],
      "source": [
        "scores_array.size # the number of items in the array"
      ]
    },
    {
      "cell_type": "code",
      "execution_count": null,
      "metadata": {
        "colab": {
          "base_uri": "https://localhost:8080/"
        },
        "id": "sla5gzhwehmM",
        "outputId": "c56faf86-c50a-4873-8cec-2818da16cb6e"
      },
      "outputs": [
        {
          "output_type": "execute_result",
          "data": {
            "text/plain": [
              "dtype('int64')"
            ]
          },
          "metadata": {},
          "execution_count": 17
        }
      ],
      "source": [
        "scores_array.dtype # the type of data in the array"
      ]
    },
    {
      "cell_type": "code",
      "execution_count": null,
      "metadata": {
        "colab": {
          "base_uri": "https://localhost:8080/"
        },
        "id": "NPEEa8HmehmM",
        "outputId": "833f721c-62ef-4068-ba3e-50ee727c6e2e"
      },
      "outputs": [
        {
          "output_type": "execute_result",
          "data": {
            "text/plain": [
              "array([25, 30, 50, 60, 70])"
            ]
          },
          "metadata": {},
          "execution_count": 18
        }
      ],
      "source": [
        "np.unique(scores_array) # print unique items from the array"
      ]
    },
    {
      "cell_type": "code",
      "execution_count": null,
      "metadata": {
        "colab": {
          "base_uri": "https://localhost:8080/"
        },
        "id": "Auvm1SM-ehmM",
        "outputId": "17397f65-e569-4f6f-b511-e8316b1c5b6f"
      },
      "outputs": [
        {
          "output_type": "execute_result",
          "data": {
            "text/plain": [
              "array([50, 60, 70, 30, 25, 70])"
            ]
          },
          "metadata": {},
          "execution_count": 19
        }
      ],
      "source": [
        "scores_array"
      ]
    },
    {
      "cell_type": "code",
      "execution_count": null,
      "metadata": {
        "colab": {
          "base_uri": "https://localhost:8080/"
        },
        "id": "P841h1xnehmM",
        "outputId": "1eb66f0c-1300-4db8-972e-507113ad2026"
      },
      "outputs": [
        {
          "output_type": "execute_result",
          "data": {
            "text/plain": [
              "array([70, 25, 30, 70, 60, 50])"
            ]
          },
          "metadata": {},
          "execution_count": 20
        }
      ],
      "source": [
        "np.flip(scores_array) # reverse the array"
      ]
    },
    {
      "cell_type": "code",
      "execution_count": null,
      "metadata": {
        "colab": {
          "base_uri": "https://localhost:8080/"
        },
        "id": "r81XjHc_ehmN",
        "outputId": "1447c08b-5f0a-44bf-b3bf-0cb7107cc7ac"
      },
      "outputs": [
        {
          "output_type": "execute_result",
          "data": {
            "text/plain": [
              "array([25, 30, 50, 60, 70, 70])"
            ]
          },
          "metadata": {},
          "execution_count": 21
        }
      ],
      "source": [
        "np.sort(scores_array)"
      ]
    },
    {
      "cell_type": "code",
      "execution_count": null,
      "metadata": {
        "colab": {
          "base_uri": "https://localhost:8080/"
        },
        "id": "eUXsQZInehmN",
        "outputId": "b047155e-8bf3-4f21-a6e1-53ea41c731c7"
      },
      "outputs": [
        {
          "output_type": "execute_result",
          "data": {
            "text/plain": [
              "array([50, 60, 70, 30, 25, 70])"
            ]
          },
          "metadata": {},
          "execution_count": 22
        }
      ],
      "source": [
        "scores_array"
      ]
    },
    {
      "cell_type": "code",
      "execution_count": null,
      "metadata": {
        "colab": {
          "base_uri": "https://localhost:8080/"
        },
        "id": "9i0ehYwTehmN",
        "outputId": "e1e6b389-a26c-41a5-f24d-06a507b43a4f"
      },
      "outputs": [
        {
          "output_type": "execute_result",
          "data": {
            "text/plain": [
              "array([50, 59, 59, 30, 25, 59])"
            ]
          },
          "metadata": {},
          "execution_count": 23
        }
      ],
      "source": [
        "np.clip(scores_array, 20,59)"
      ]
    },
    {
      "cell_type": "markdown",
      "metadata": {
        "id": "Sg4BopDRehmN"
      },
      "source": [
        "# Part Two"
      ]
    },
    {
      "cell_type": "markdown",
      "metadata": {
        "id": "TyUi4K_6ehmN"
      },
      "source": [
        "### Joining Two Arrays"
      ]
    },
    {
      "cell_type": "code",
      "execution_count": null,
      "metadata": {
        "id": "DZBsg1eFehmN"
      },
      "outputs": [],
      "source": [
        "array_two = np.array([90, 26, 37, 77, 65, 55])"
      ]
    },
    {
      "cell_type": "code",
      "execution_count": null,
      "metadata": {
        "colab": {
          "base_uri": "https://localhost:8080/"
        },
        "id": "CiLi4dPSehmO",
        "outputId": "c5a44100-bc78-405a-f2b9-508befa88239"
      },
      "outputs": [
        {
          "output_type": "execute_result",
          "data": {
            "text/plain": [
              "array([50, 60, 70, 30, 25, 70])"
            ]
          },
          "metadata": {},
          "execution_count": 25
        }
      ],
      "source": [
        "scores_array"
      ]
    },
    {
      "cell_type": "code",
      "execution_count": null,
      "metadata": {
        "colab": {
          "base_uri": "https://localhost:8080/"
        },
        "id": "B_-EGsZbehmZ",
        "outputId": "1842ec83-af0d-45a3-cac6-7a84d9efd942"
      },
      "outputs": [
        {
          "output_type": "execute_result",
          "data": {
            "text/plain": [
              "array([50, 60, 70, 30, 25, 70, 90, 26, 37, 77, 65, 55])"
            ]
          },
          "metadata": {},
          "execution_count": 26
        }
      ],
      "source": [
        "np.concatenate((scores_array, array_two))"
      ]
    },
    {
      "cell_type": "markdown",
      "metadata": {
        "id": "6gyN_QzLehmZ"
      },
      "source": [
        "### np.zeros()"
      ]
    },
    {
      "cell_type": "code",
      "execution_count": null,
      "metadata": {
        "colab": {
          "base_uri": "https://localhost:8080/"
        },
        "id": "RRHFVmo1ehmZ",
        "outputId": "eef98763-8655-4c91-b47c-4c07171fa734"
      },
      "outputs": [
        {
          "output_type": "execute_result",
          "data": {
            "text/plain": [
              "array([0., 0., 0., 0., 0.])"
            ]
          },
          "metadata": {},
          "execution_count": 27
        }
      ],
      "source": [
        "np.zeros(5)"
      ]
    },
    {
      "cell_type": "markdown",
      "metadata": {
        "id": "tMSVnsDrehma"
      },
      "source": [
        "### np.ones()"
      ]
    },
    {
      "cell_type": "code",
      "execution_count": null,
      "metadata": {
        "colab": {
          "base_uri": "https://localhost:8080/"
        },
        "id": "GF2eS5NKehma",
        "outputId": "a2e2225a-7445-483e-822b-f943284dc99d"
      },
      "outputs": [
        {
          "output_type": "execute_result",
          "data": {
            "text/plain": [
              "array([1., 1., 1., 1., 1.])"
            ]
          },
          "metadata": {},
          "execution_count": 28
        }
      ],
      "source": [
        "np.ones(5)"
      ]
    },
    {
      "cell_type": "code",
      "execution_count": null,
      "metadata": {
        "colab": {
          "base_uri": "https://localhost:8080/"
        },
        "id": "z9Y6EbpGehma",
        "outputId": "7b03318a-99a9-4f76-c33d-2fc2dd2ac484"
      },
      "outputs": [
        {
          "output_type": "execute_result",
          "data": {
            "text/plain": [
              "array([[1., 0., 0., 0., 0.],\n",
              "       [0., 1., 0., 0., 0.],\n",
              "       [0., 0., 1., 0., 0.],\n",
              "       [0., 0., 0., 1., 0.],\n",
              "       [0., 0., 0., 0., 1.]])"
            ]
          },
          "metadata": {},
          "execution_count": 29
        }
      ],
      "source": [
        "np.eye(5) # Return a 2-D array with ones on the diagonal\n",
        "           # and zeros elsewhere."
      ]
    },
    {
      "cell_type": "code",
      "execution_count": null,
      "metadata": {
        "colab": {
          "base_uri": "https://localhost:8080/"
        },
        "id": "7pBwpmWvehma",
        "outputId": "32fe01a3-c592-41b2-b6e5-3553ce488f61"
      },
      "outputs": [
        {
          "output_type": "execute_result",
          "data": {
            "text/plain": [
              "array([[1., 0., 0., 0., 0.],\n",
              "       [0., 1., 0., 0., 0.],\n",
              "       [0., 0., 1., 0., 0.],\n",
              "       [0., 0., 0., 1., 0.],\n",
              "       [0., 0., 0., 0., 1.]])"
            ]
          },
          "metadata": {},
          "execution_count": 30
        }
      ],
      "source": [
        "np.identity(5)"
      ]
    },
    {
      "cell_type": "markdown",
      "metadata": {
        "id": "upuzA5N6ehma"
      },
      "source": [
        "### np.linspace()"
      ]
    },
    {
      "cell_type": "code",
      "execution_count": null,
      "metadata": {
        "colab": {
          "base_uri": "https://localhost:8080/"
        },
        "id": "TLYgbX5zehma",
        "outputId": "01018fbc-e877-4cfe-c6f1-3bc6c58a7bed"
      },
      "outputs": [
        {
          "output_type": "execute_result",
          "data": {
            "text/plain": [
              "array([10., 20., 30., 40., 50.])"
            ]
          },
          "metadata": {},
          "execution_count": 31
        }
      ],
      "source": [
        "np.linspace(10,50,5) # Return evenly spaced numbers over a\n",
        "                      # specified interval.\n",
        "                    # start,stop, num=5,"
      ]
    },
    {
      "cell_type": "code",
      "execution_count": null,
      "metadata": {
        "colab": {
          "base_uri": "https://localhost:8080/"
        },
        "id": "wmkTSlBhehmb",
        "outputId": "d24b4d9a-b4b7-4946-b3c4-68ef53b2ffca"
      },
      "outputs": [
        {
          "output_type": "execute_result",
          "data": {
            "text/plain": [
              "array([10.  , 11.25, 12.5 , 13.75, 15.  ])"
            ]
          },
          "metadata": {},
          "execution_count": 32
        }
      ],
      "source": [
        "np.linspace(10,15,5)"
      ]
    },
    {
      "cell_type": "code",
      "execution_count": null,
      "metadata": {
        "colab": {
          "base_uri": "https://localhost:8080/"
        },
        "id": "L9eCa9vwehmb",
        "outputId": "f69015aa-9600-4cfd-d083-210932eb6d6b"
      },
      "outputs": [
        {
          "output_type": "execute_result",
          "data": {
            "text/plain": [
              "array([0.22066668, 0.07754324, 0.74937691, 0.17973052, 0.70097915,\n",
              "       0.26150287, 0.51906546, 0.85536094, 0.22334021, 0.22727214])"
            ]
          },
          "metadata": {},
          "execution_count": 33
        }
      ],
      "source": [
        "np.random.rand(10)# Create an array of the given shape and\n",
        "                  # populate it with  random samples from\n",
        "                   # a uniform distribution"
      ]
    },
    {
      "cell_type": "code",
      "execution_count": null,
      "metadata": {
        "colab": {
          "base_uri": "https://localhost:8080/"
        },
        "id": "9ixlZg-Oehmb",
        "outputId": "447e8e56-bdbc-4faa-8ce6-2a7b035dcee7"
      },
      "outputs": [
        {
          "output_type": "execute_result",
          "data": {
            "text/plain": [
              "array([[0.44244819, 0.50685102],\n",
              "       [0.63615408, 0.97904163],\n",
              "       [0.03133164, 0.42256121]])"
            ]
          },
          "metadata": {},
          "execution_count": 34
        }
      ],
      "source": [
        "np.random.rand(3,2)"
      ]
    },
    {
      "cell_type": "code",
      "execution_count": null,
      "metadata": {
        "colab": {
          "base_uri": "https://localhost:8080/"
        },
        "id": "eebo8GA7ehmb",
        "outputId": "416a0b48-2e4f-4ee2-d5e4-be271fc6f3ff"
      },
      "outputs": [
        {
          "output_type": "execute_result",
          "data": {
            "text/plain": [
              "12"
            ]
          },
          "metadata": {},
          "execution_count": 35
        }
      ],
      "source": [
        "np.random.randint(15)"
      ]
    },
    {
      "cell_type": "code",
      "execution_count": null,
      "metadata": {
        "colab": {
          "base_uri": "https://localhost:8080/"
        },
        "id": "HnxD-nQGehmb",
        "outputId": "9aab7682-6dbb-432e-9538-c26c0c253095"
      },
      "outputs": [
        {
          "output_type": "execute_result",
          "data": {
            "text/plain": [
              "array([18, 17, 14, 18,  7, 10])"
            ]
          },
          "metadata": {},
          "execution_count": 36
        }
      ],
      "source": [
        "np.random.randint(5,20,6)\n",
        "# Return random integers from `low` (inclusive) to `high` (exclusive)."
      ]
    },
    {
      "cell_type": "code",
      "execution_count": null,
      "metadata": {
        "colab": {
          "base_uri": "https://localhost:8080/"
        },
        "id": "P5DohC-lehmc",
        "outputId": "7ca5c8d1-e068-43e7-ef69-1847973bafa8"
      },
      "outputs": [
        {
          "output_type": "execute_result",
          "data": {
            "text/plain": [
              "array([nan,  6., nan])"
            ]
          },
          "metadata": {},
          "execution_count": 37
        }
      ],
      "source": [
        "np.array([np.nan,6,np.nan])"
      ]
    },
    {
      "cell_type": "markdown",
      "metadata": {
        "id": "jPBkjP3Hehmc"
      },
      "source": [
        "# Part 3"
      ]
    },
    {
      "cell_type": "markdown",
      "metadata": {
        "id": "mzzeRy0Gehmc"
      },
      "source": [
        "# Checking Documentation"
      ]
    },
    {
      "cell_type": "code",
      "execution_count": null,
      "metadata": {
        "colab": {
          "base_uri": "https://localhost:8080/"
        },
        "id": "F3TNQPuTehmc",
        "outputId": "060e7dea-592f-460c-d13b-dff91462c2d0"
      },
      "outputs": [
        {
          "output_type": "stream",
          "name": "stdout",
          "text": [
            "Help on function linspace in module numpy:\n",
            "\n",
            "linspace(start, stop, num=50, endpoint=True, retstep=False, dtype=None, axis=0)\n",
            "    Return evenly spaced numbers over a specified interval.\n",
            "    \n",
            "    Returns `num` evenly spaced samples, calculated over the\n",
            "    interval [`start`, `stop`].\n",
            "    \n",
            "    The endpoint of the interval can optionally be excluded.\n",
            "    \n",
            "    .. versionchanged:: 1.16.0\n",
            "        Non-scalar `start` and `stop` are now supported.\n",
            "    \n",
            "    .. versionchanged:: 1.20.0\n",
            "        Values are rounded towards ``-inf`` instead of ``0`` when an\n",
            "        integer ``dtype`` is specified. The old behavior can\n",
            "        still be obtained with ``np.linspace(start, stop, num).astype(int)``\n",
            "    \n",
            "    Parameters\n",
            "    ----------\n",
            "    start : array_like\n",
            "        The starting value of the sequence.\n",
            "    stop : array_like\n",
            "        The end value of the sequence, unless `endpoint` is set to False.\n",
            "        In that case, the sequence consists of all but the last of ``num + 1``\n",
            "        evenly spaced samples, so that `stop` is excluded.  Note that the step\n",
            "        size changes when `endpoint` is False.\n",
            "    num : int, optional\n",
            "        Number of samples to generate. Default is 50. Must be non-negative.\n",
            "    endpoint : bool, optional\n",
            "        If True, `stop` is the last sample. Otherwise, it is not included.\n",
            "        Default is True.\n",
            "    retstep : bool, optional\n",
            "        If True, return (`samples`, `step`), where `step` is the spacing\n",
            "        between samples.\n",
            "    dtype : dtype, optional\n",
            "        The type of the output array.  If `dtype` is not given, the data type\n",
            "        is inferred from `start` and `stop`. The inferred dtype will never be\n",
            "        an integer; `float` is chosen even if the arguments would produce an\n",
            "        array of integers.\n",
            "    \n",
            "        .. versionadded:: 1.9.0\n",
            "    \n",
            "    axis : int, optional\n",
            "        The axis in the result to store the samples.  Relevant only if start\n",
            "        or stop are array-like.  By default (0), the samples will be along a\n",
            "        new axis inserted at the beginning. Use -1 to get an axis at the end.\n",
            "    \n",
            "        .. versionadded:: 1.16.0\n",
            "    \n",
            "    Returns\n",
            "    -------\n",
            "    samples : ndarray\n",
            "        There are `num` equally spaced samples in the closed interval\n",
            "        ``[start, stop]`` or the half-open interval ``[start, stop)``\n",
            "        (depending on whether `endpoint` is True or False).\n",
            "    step : float, optional\n",
            "        Only returned if `retstep` is True\n",
            "    \n",
            "        Size of spacing between samples.\n",
            "    \n",
            "    \n",
            "    See Also\n",
            "    --------\n",
            "    arange : Similar to `linspace`, but uses a step size (instead of the\n",
            "             number of samples).\n",
            "    geomspace : Similar to `linspace`, but with numbers spaced evenly on a log\n",
            "                scale (a geometric progression).\n",
            "    logspace : Similar to `geomspace`, but with the end points specified as\n",
            "               logarithms.\n",
            "    \n",
            "    Examples\n",
            "    --------\n",
            "    >>> np.linspace(2.0, 3.0, num=5)\n",
            "    array([2.  , 2.25, 2.5 , 2.75, 3.  ])\n",
            "    >>> np.linspace(2.0, 3.0, num=5, endpoint=False)\n",
            "    array([2. ,  2.2,  2.4,  2.6,  2.8])\n",
            "    >>> np.linspace(2.0, 3.0, num=5, retstep=True)\n",
            "    (array([2.  ,  2.25,  2.5 ,  2.75,  3.  ]), 0.25)\n",
            "    \n",
            "    Graphical illustration:\n",
            "    \n",
            "    >>> import matplotlib.pyplot as plt\n",
            "    >>> N = 8\n",
            "    >>> y = np.zeros(N)\n",
            "    >>> x1 = np.linspace(0, 10, N, endpoint=True)\n",
            "    >>> x2 = np.linspace(0, 10, N, endpoint=False)\n",
            "    >>> plt.plot(x1, y, 'o')\n",
            "    [<matplotlib.lines.Line2D object at 0x...>]\n",
            "    >>> plt.plot(x2, y + 0.5, 'o')\n",
            "    [<matplotlib.lines.Line2D object at 0x...>]\n",
            "    >>> plt.ylim([-0.5, 1])\n",
            "    (-0.5, 1)\n",
            "    >>> plt.show()\n",
            "\n"
          ]
        }
      ],
      "source": [
        "help(np.linspace)"
      ]
    },
    {
      "cell_type": "code",
      "execution_count": null,
      "metadata": {
        "id": "u5OatGjfehmd",
        "outputId": "feaec07c-5f45-4719-ebbd-bb3d3ab11907"
      },
      "outputs": [
        {
          "data": {
            "text/plain": [
              "\u001b[0;31mSignature:\u001b[0m\n",
              "\u001b[0mnp\u001b[0m\u001b[0;34m.\u001b[0m\u001b[0mlinspace\u001b[0m\u001b[0;34m(\u001b[0m\u001b[0;34m\u001b[0m\n",
              "\u001b[0;34m\u001b[0m    \u001b[0mstart\u001b[0m\u001b[0;34m,\u001b[0m\u001b[0;34m\u001b[0m\n",
              "\u001b[0;34m\u001b[0m    \u001b[0mstop\u001b[0m\u001b[0;34m,\u001b[0m\u001b[0;34m\u001b[0m\n",
              "\u001b[0;34m\u001b[0m    \u001b[0mnum\u001b[0m\u001b[0;34m=\u001b[0m\u001b[0;36m50\u001b[0m\u001b[0;34m,\u001b[0m\u001b[0;34m\u001b[0m\n",
              "\u001b[0;34m\u001b[0m    \u001b[0mendpoint\u001b[0m\u001b[0;34m=\u001b[0m\u001b[0;32mTrue\u001b[0m\u001b[0;34m,\u001b[0m\u001b[0;34m\u001b[0m\n",
              "\u001b[0;34m\u001b[0m    \u001b[0mretstep\u001b[0m\u001b[0;34m=\u001b[0m\u001b[0;32mFalse\u001b[0m\u001b[0;34m,\u001b[0m\u001b[0;34m\u001b[0m\n",
              "\u001b[0;34m\u001b[0m    \u001b[0mdtype\u001b[0m\u001b[0;34m=\u001b[0m\u001b[0;32mNone\u001b[0m\u001b[0;34m,\u001b[0m\u001b[0;34m\u001b[0m\n",
              "\u001b[0;34m\u001b[0m    \u001b[0maxis\u001b[0m\u001b[0;34m=\u001b[0m\u001b[0;36m0\u001b[0m\u001b[0;34m,\u001b[0m\u001b[0;34m\u001b[0m\n",
              "\u001b[0;34m\u001b[0m\u001b[0;34m)\u001b[0m\u001b[0;34m\u001b[0m\u001b[0;34m\u001b[0m\u001b[0m\n",
              "\u001b[0;31mDocstring:\u001b[0m\n",
              "Return evenly spaced numbers over a specified interval.\n",
              "\n",
              "Returns `num` evenly spaced samples, calculated over the\n",
              "interval [`start`, `stop`].\n",
              "\n",
              "The endpoint of the interval can optionally be excluded.\n",
              "\n",
              ".. versionchanged:: 1.16.0\n",
              "    Non-scalar `start` and `stop` are now supported.\n",
              "\n",
              "Parameters\n",
              "----------\n",
              "start : array_like\n",
              "    The starting value of the sequence.\n",
              "stop : array_like\n",
              "    The end value of the sequence, unless `endpoint` is set to False.\n",
              "    In that case, the sequence consists of all but the last of ``num + 1``\n",
              "    evenly spaced samples, so that `stop` is excluded.  Note that the step\n",
              "    size changes when `endpoint` is False.\n",
              "num : int, optional\n",
              "    Number of samples to generate. Default is 50. Must be non-negative.\n",
              "endpoint : bool, optional\n",
              "    If True, `stop` is the last sample. Otherwise, it is not included.\n",
              "    Default is True.\n",
              "retstep : bool, optional\n",
              "    If True, return (`samples`, `step`), where `step` is the spacing\n",
              "    between samples.\n",
              "dtype : dtype, optional\n",
              "    The type of the output array.  If `dtype` is not given, infer the data\n",
              "    type from the other input arguments.\n",
              "\n",
              "    .. versionadded:: 1.9.0\n",
              "\n",
              "axis : int, optional\n",
              "    The axis in the result to store the samples.  Relevant only if start\n",
              "    or stop are array-like.  By default (0), the samples will be along a\n",
              "    new axis inserted at the beginning. Use -1 to get an axis at the end.\n",
              "\n",
              "    .. versionadded:: 1.16.0\n",
              "\n",
              "Returns\n",
              "-------\n",
              "samples : ndarray\n",
              "    There are `num` equally spaced samples in the closed interval\n",
              "    ``[start, stop]`` or the half-open interval ``[start, stop)``\n",
              "    (depending on whether `endpoint` is True or False).\n",
              "step : float, optional\n",
              "    Only returned if `retstep` is True\n",
              "\n",
              "    Size of spacing between samples.\n",
              "\n",
              "\n",
              "See Also\n",
              "--------\n",
              "arange : Similar to `linspace`, but uses a step size (instead of the\n",
              "         number of samples).\n",
              "geomspace : Similar to `linspace`, but with numbers spaced evenly on a log\n",
              "            scale (a geometric progression).\n",
              "logspace : Similar to `geomspace`, but with the end points specified as\n",
              "           logarithms.\n",
              "\n",
              "Examples\n",
              "--------\n",
              ">>> np.linspace(2.0, 3.0, num=5)\n",
              "array([2.  , 2.25, 2.5 , 2.75, 3.  ])\n",
              ">>> np.linspace(2.0, 3.0, num=5, endpoint=False)\n",
              "array([2. ,  2.2,  2.4,  2.6,  2.8])\n",
              ">>> np.linspace(2.0, 3.0, num=5, retstep=True)\n",
              "(array([2.  ,  2.25,  2.5 ,  2.75,  3.  ]), 0.25)\n",
              "\n",
              "Graphical illustration:\n",
              "\n",
              ">>> import matplotlib.pyplot as plt\n",
              ">>> N = 8\n",
              ">>> y = np.zeros(N)\n",
              ">>> x1 = np.linspace(0, 10, N, endpoint=True)\n",
              ">>> x2 = np.linspace(0, 10, N, endpoint=False)\n",
              ">>> plt.plot(x1, y, 'o')\n",
              "[<matplotlib.lines.Line2D object at 0x...>]\n",
              ">>> plt.plot(x2, y + 0.5, 'o')\n",
              "[<matplotlib.lines.Line2D object at 0x...>]\n",
              ">>> plt.ylim([-0.5, 1])\n",
              "(-0.5, 1)\n",
              ">>> plt.show()\n",
              "\u001b[0;31mFile:\u001b[0m      ~/.local/lib/python3.7/site-packages/numpy/core/function_base.py\n",
              "\u001b[0;31mType:\u001b[0m      function\n"
            ]
          },
          "metadata": {},
          "output_type": "display_data"
        }
      ],
      "source": [
        "np.linspace?"
      ]
    },
    {
      "cell_type": "markdown",
      "metadata": {
        "id": "ThMU4oBeehmd"
      },
      "source": [
        "Happy coding!"
      ]
    }
  ],
  "metadata": {
    "kernelspec": {
      "display_name": "Python 3",
      "language": "python",
      "name": "python3"
    },
    "language_info": {
      "codemirror_mode": {
        "name": "ipython",
        "version": 3
      },
      "file_extension": ".py",
      "mimetype": "text/x-python",
      "name": "python",
      "nbconvert_exporter": "python",
      "pygments_lexer": "ipython3",
      "version": "3.7.6"
    },
    "colab": {
      "provenance": [],
      "include_colab_link": true
    }
  },
  "nbformat": 4,
  "nbformat_minor": 0
}