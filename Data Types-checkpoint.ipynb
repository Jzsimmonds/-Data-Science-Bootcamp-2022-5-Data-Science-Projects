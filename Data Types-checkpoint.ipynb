{
 "cells": [
  {
   "cell_type": "markdown",
   "id": "2e3348cb",
   "metadata": {},
   "source": [
    "# INT 'Integer\" "
   ]
  },
  {
   "cell_type": "code",
   "execution_count": 1,
   "id": "5174b975",
   "metadata": {},
   "outputs": [],
   "source": [
    "# Example \n",
    "a = 5 \n",
    "b = 100"
   ]
  },
  {
   "cell_type": "code",
   "execution_count": 3,
   "id": "d00fdf5e",
   "metadata": {},
   "outputs": [
    {
     "name": "stdout",
     "output_type": "stream",
     "text": [
      "<class 'int'>\n"
     ]
    }
   ],
   "source": [
    "print(type(a))"
   ]
  },
  {
   "cell_type": "code",
   "execution_count": 4,
   "id": "46c92496",
   "metadata": {},
   "outputs": [
    {
     "name": "stdout",
     "output_type": "stream",
     "text": [
      "<class 'int'>\n"
     ]
    }
   ],
   "source": [
    "print(type(b))"
   ]
  },
  {
   "cell_type": "markdown",
   "id": "6f89f28b",
   "metadata": {},
   "source": [
    "# FLOAT 'Float Point\" "
   ]
  },
  {
   "cell_type": "code",
   "execution_count": 5,
   "id": "4683290a",
   "metadata": {},
   "outputs": [],
   "source": [
    "c=5.6\n",
    "d=12.58\n",
    "e=1385.658"
   ]
  },
  {
   "cell_type": "code",
   "execution_count": 6,
   "id": "c9da3381",
   "metadata": {},
   "outputs": [
    {
     "name": "stdout",
     "output_type": "stream",
     "text": [
      "<class 'float'>\n"
     ]
    }
   ],
   "source": [
    "print(type(c))"
   ]
  },
  {
   "cell_type": "code",
   "execution_count": 7,
   "id": "a7a28a47",
   "metadata": {},
   "outputs": [
    {
     "name": "stdout",
     "output_type": "stream",
     "text": [
      "<class 'float'>\n"
     ]
    }
   ],
   "source": [
    "print(type(d))"
   ]
  },
  {
   "cell_type": "code",
   "execution_count": 8,
   "id": "683bde95",
   "metadata": {},
   "outputs": [
    {
     "name": "stdout",
     "output_type": "stream",
     "text": [
      "<class 'float'>\n"
     ]
    }
   ],
   "source": [
    "print(type(e))"
   ]
  },
  {
   "cell_type": "markdown",
   "id": "4ed62974",
   "metadata": {},
   "source": [
    "# Long 'Large Number'"
   ]
  },
  {
   "cell_type": "code",
   "execution_count": 9,
   "id": "968be852",
   "metadata": {},
   "outputs": [],
   "source": [
    "x = 5248966524486244756541786652115885"
   ]
  },
  {
   "cell_type": "code",
   "execution_count": 10,
   "id": "3d114ae9",
   "metadata": {},
   "outputs": [
    {
     "name": "stdout",
     "output_type": "stream",
     "text": [
      "<class 'int'>\n"
     ]
    }
   ],
   "source": [
    "print(type(x))"
   ]
  }
 ],
 "metadata": {
  "kernelspec": {
   "display_name": "Python 3 (ipykernel)",
   "language": "python",
   "name": "python3"
  },
  "language_info": {
   "codemirror_mode": {
    "name": "ipython",
    "version": 3
   },
   "file_extension": ".py",
   "mimetype": "text/x-python",
   "name": "python",
   "nbconvert_exporter": "python",
   "pygments_lexer": "ipython3",
   "version": "3.7.9"
  }
 },
 "nbformat": 4,
 "nbformat_minor": 5
}
